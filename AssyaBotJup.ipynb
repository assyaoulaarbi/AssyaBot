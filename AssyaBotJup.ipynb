{
 "cells": [
  {
   "cell_type": "markdown",
   "id": "32e3ce53",
   "metadata": {},
   "source": [
    "## Load Environment Variables and Initialize OpenAI"
   ]
  },
  {
   "cell_type": "code",
   "execution_count": 1,
   "id": "f777b637",
   "metadata": {},
   "outputs": [],
   "source": [
    "import os\n",
    "from dotenv import load_dotenv\n",
    "import openai\n",
    "\n",
    "# Load environment variables from your .env file\n",
    "load_dotenv()\n",
    "\n",
    "# Retrieve your OpenAI API key from environment variables\n",
    "api_key = os.getenv(\"OPENAI_API_KEY\")\n",
    "\n",
    "# Set the OpenAI API key for client\n",
    "openai.api_key = api_key"
   ]
  },
  {
   "cell_type": "markdown",
   "id": "24ed9c12",
   "metadata": {},
   "source": [
    "## Define a Function to Send Prompts and Get Responses"
   ]
  },
  {
   "cell_type": "markdown",
   "id": "149e76cd",
   "metadata": {},
   "source": [
    "## And Test the Function with a Sample Question"
   ]
  },
  {
   "cell_type": "code",
   "execution_count": null,
   "id": "f30598d7",
   "metadata": {},
   "outputs": [
    {
     "name": "stdout",
     "output_type": "stream",
     "text": [
      "AI: Machine learning (ML) is a subset of artificial intelligence (AI) that focuses on the development of algorithms and statistical models that enable computers to perform tasks without explicit programming for each specific task. Instead of relying on predefined rules, machine learning systems learn from data, identify patterns, and make decisions based on the input they receive.\n",
      "\n",
      "### Key Concepts in Machine Learning:\n",
      "\n",
      "1. **Data**: The foundational element of machine learning. Models learn from historical data, which can be structured (like databases) or unstructured (like text, images, or videos).\n",
      "\n",
      "2. **Algorithms**: Mathematical methods used to find patterns or make predictions from the data. Common algorithms include decision trees, neural networks, support vector machines, and clustering algorithms.\n",
      "\n",
      "3. **\n"
     ]
    }
   ],
   "source": [
    "import streamlit as st\n",
    "import openai\n",
    "import os\n",
    "from dotenv import load_dotenv\n",
    "\n",
    "# Load .env locally\n",
    "load_dotenv()\n",
    "\n",
    "# Use Streamlit secret if available, otherwise fallback to local .env\n",
    "openai.api_key = st.secrets.get(\"OPENAI_API_KEY\") or os.getenv(\"OPENAI_API_KEY\")\n",
    "\n",
    "\n",
    "# Initialize OpenAI client with API key\n",
    "client = OpenAI(api_key=api_key)\n",
    "\n",
    "def ask_openai(prompt):\n",
    "    response = client.chat.completions.create(\n",
    "        model=\"gpt-4o-mini\",\n",
    "        messages=[{\"role\": \"user\", \"content\": prompt}],\n",
    "        max_tokens=150,\n",
    "        temperature=0.7,\n",
    "    )\n",
    "    return response.choices[0].message.content\n",
    "\n",
    "# Test it!\n",
    "question = \"What is a Machine learning?\"\n",
    "answer = ask_openai(question)\n",
    "print(\"AI:\", answer)\n"
   ]
  },
  {
   "cell_type": "code",
   "execution_count": null,
   "id": "f82dee82",
   "metadata": {},
   "outputs": [],
   "source": []
  }
 ],
 "metadata": {
  "kernelspec": {
   "display_name": "Python 3",
   "language": "python",
   "name": "python3"
  },
  "language_info": {
   "codemirror_mode": {
    "name": "ipython",
    "version": 3
   },
   "file_extension": ".py",
   "mimetype": "text/x-python",
   "name": "python",
   "nbconvert_exporter": "python",
   "pygments_lexer": "ipython3",
   "version": "3.13.3"
  }
 },
 "nbformat": 4,
 "nbformat_minor": 5
}
